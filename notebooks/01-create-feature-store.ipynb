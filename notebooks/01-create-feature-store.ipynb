{
 "cells": [
  {
   "cell_type": "markdown",
   "metadata": {},
   "source": [
    "## Starting Spark"
   ]
  },
  {
   "cell_type": "code",
   "execution_count": null,
   "metadata": {},
   "outputs": [
    {
     "name": "stderr",
     "output_type": "stream",
     "text": [
      "Setting default log level to \"WARN\".\n",
      "To adjust logging level use sc.setLogLevel(newLevel). For SparkR, use setLogLevel(newLevel).\n",
      "25/02/15 11:03:35 WARN NativeCodeLoader: Unable to load native-hadoop library for your platform... using builtin-java classes where applicable\n"
     ]
    },
    {
     "name": "stderr",
     "output_type": "stream",
     "text": [
      "25/02/15 11:03:48 WARN GarbageCollectionMetrics: To enable non-built-in garbage collector(s) List(G1 Concurrent GC), users should configure it(them) to spark.eventLog.gcMetrics.youngGenerationGarbageCollectors or spark.eventLog.gcMetrics.oldGenerationGarbageCollectors\n"
     ]
    }
   ],
   "source": [
    "from pyspark.sql import SparkSession\n",
    "spark = SparkSession.builder.master(\"local[*]\").getOrCreate()"
   ]
  },
  {
   "cell_type": "markdown",
   "metadata": {},
   "source": [
    "## Reading data with Spark"
   ]
  },
  {
   "cell_type": "code",
   "execution_count": 2,
   "metadata": {},
   "outputs": [],
   "source": [
    "df_order_items = spark.read.csv(\"/home/jeanlr/projetos/olist/data/raw/olist_order_items_dataset.csv\",\n",
    "                               header=True,\n",
    "                               inferSchema=True)\n",
    "\n",
    "df_order_products = spark.read.csv(\"/home/jeanlr/projetos/olist/data/raw/olist_products_dataset.csv\",\n",
    "                               header=True,\n",
    "                               inferSchema=True)\n",
    "\n",
    "df_orders = spark.read.csv(\"/home/jeanlr/projetos/olist/data/raw/olist_orders_dataset.csv\",\n",
    "                               header=True,\n",
    "                               inferSchema=True)"
   ]
  },
  {
   "cell_type": "code",
   "execution_count": 3,
   "metadata": {},
   "outputs": [],
   "source": [
    "## Habilitando uso do SparkSQL\n",
    "df_order_items.createOrReplaceTempView(\"df_order_items\")\n",
    "df_order_products.createOrReplaceTempView(\"df_order_products\")\n",
    "df_orders.createOrReplaceTempView(\"df_orders\")"
   ]
  },
  {
   "cell_type": "code",
   "execution_count": 4,
   "metadata": {},
   "outputs": [
    {
     "name": "stdout",
     "output_type": "stream",
     "text": [
      "+--------------------+-------------+--------------------+--------------------+-------------------+-----+-------------+\n",
      "|            order_id|order_item_id|          product_id|           seller_id|shipping_limit_date|price|freight_value|\n",
      "+--------------------+-------------+--------------------+--------------------+-------------------+-----+-------------+\n",
      "|00010242fe8c5a6d1...|            1|4244733e06e7ecb49...|48436dade18ac8b2b...|2017-09-19 09:45:35| 58.9|        13.29|\n",
      "|00018f77f2f0320c5...|            1|e5f2d52b802189ee6...|dd7ddc04e1b6c2c61...|2017-05-03 11:05:13|239.9|        19.93|\n",
      "|000229ec398224ef6...|            1|c777355d18b72b67a...|5b51032eddd242adc...|2018-01-18 14:48:30|199.0|        17.87|\n",
      "|00024acbcdf0a6daa...|            1|7634da152a4610f15...|9d7a1d34a50524090...|2018-08-15 10:10:18|12.99|        12.79|\n",
      "|00042b26cf59d7ce6...|            1|ac6c3623068f30de0...|df560393f3a51e745...|2017-02-13 13:57:51|199.9|        18.14|\n",
      "+--------------------+-------------+--------------------+--------------------+-------------------+-----+-------------+\n",
      "only showing top 5 rows\n",
      "\n"
     ]
    }
   ],
   "source": [
    "df_order_items.show(5)"
   ]
  },
  {
   "cell_type": "code",
   "execution_count": 5,
   "metadata": {},
   "outputs": [
    {
     "name": "stdout",
     "output_type": "stream",
     "text": [
      "+--------------------+---------------------+-------------------+--------------------------+------------------+----------------+-----------------+-----------------+----------------+\n",
      "|          product_id|product_category_name|product_name_lenght|product_description_lenght|product_photos_qty|product_weight_g|product_length_cm|product_height_cm|product_width_cm|\n",
      "+--------------------+---------------------+-------------------+--------------------------+------------------+----------------+-----------------+-----------------+----------------+\n",
      "|1e9e8ef04dbcff454...|           perfumaria|                 40|                       287|                 1|             225|               16|               10|              14|\n",
      "|3aa071139cb16b67c...|                artes|                 44|                       276|                 1|            1000|               30|               18|              20|\n",
      "|96bd76ec8810374ed...|        esporte_lazer|                 46|                       250|                 1|             154|               18|                9|              15|\n",
      "|cef67bcfe19066a93...|                bebes|                 27|                       261|                 1|             371|               26|                4|              26|\n",
      "|9dc1a7de274444849...| utilidades_domest...|                 37|                       402|                 4|             625|               20|               17|              13|\n",
      "+--------------------+---------------------+-------------------+--------------------------+------------------+----------------+-----------------+-----------------+----------------+\n",
      "only showing top 5 rows\n",
      "\n"
     ]
    }
   ],
   "source": [
    "df_order_products.show(5)"
   ]
  },
  {
   "cell_type": "code",
   "execution_count": 6,
   "metadata": {},
   "outputs": [
    {
     "name": "stdout",
     "output_type": "stream",
     "text": [
      "+--------------------+--------------------+------------+------------------------+-------------------+----------------------------+-----------------------------+-----------------------------+\n",
      "|            order_id|         customer_id|order_status|order_purchase_timestamp|  order_approved_at|order_delivered_carrier_date|order_delivered_customer_date|order_estimated_delivery_date|\n",
      "+--------------------+--------------------+------------+------------------------+-------------------+----------------------------+-----------------------------+-----------------------------+\n",
      "|e481f51cbdc54678b...|9ef432eb625129730...|   delivered|     2017-10-02 10:56:33|2017-10-02 11:07:15|         2017-10-04 19:55:00|          2017-10-10 21:25:13|          2017-10-18 00:00:00|\n",
      "|53cdb2fc8bc7dce0b...|b0830fb4747a6c6d2...|   delivered|     2018-07-24 20:41:37|2018-07-26 03:24:27|         2018-07-26 14:31:00|          2018-08-07 15:27:45|          2018-08-13 00:00:00|\n",
      "|47770eb9100c2d0c4...|41ce2a54c0b03bf34...|   delivered|     2018-08-08 08:38:49|2018-08-08 08:55:23|         2018-08-08 13:50:00|          2018-08-17 18:06:29|          2018-09-04 00:00:00|\n",
      "|949d5b44dbf5de918...|f88197465ea7920ad...|   delivered|     2017-11-18 19:28:06|2017-11-18 19:45:59|         2017-11-22 13:39:59|          2017-12-02 00:28:42|          2017-12-15 00:00:00|\n",
      "|ad21c59c0840e6cb8...|8ab97904e6daea886...|   delivered|     2018-02-13 21:18:39|2018-02-13 22:20:29|         2018-02-14 19:46:34|          2018-02-16 18:17:02|          2018-02-26 00:00:00|\n",
      "+--------------------+--------------------+------------+------------------------+-------------------+----------------------------+-----------------------------+-----------------------------+\n",
      "only showing top 5 rows\n",
      "\n"
     ]
    }
   ],
   "source": [
    "df_orders.show(5)"
   ]
  },
  {
   "cell_type": "markdown",
   "metadata": {},
   "source": [
    "## Join table orders_product and orders_items"
   ]
  },
  {
   "cell_type": "code",
   "execution_count": 7,
   "metadata": {},
   "outputs": [
    {
     "name": "stdout",
     "output_type": "stream",
     "text": [
      "+--------------------+-------------+--------------------+--------------------+-------------------+-----+-------------+---------------------+------------------+----------------+-----------------+-----------------+----------------+\n",
      "|            order_id|order_item_id|          product_id|           seller_id|shipping_limit_date|price|freight_value|product_category_name|product_photos_qty|product_weight_g|product_length_cm|product_height_cm|product_width_cm|\n",
      "+--------------------+-------------+--------------------+--------------------+-------------------+-----+-------------+---------------------+------------------+----------------+-----------------+-----------------+----------------+\n",
      "|00010242fe8c5a6d1...|            1|4244733e06e7ecb49...|48436dade18ac8b2b...|2017-09-19 09:45:35| 58.9|        13.29|           cool_stuff|                 4|             650|               28|                9|              14|\n",
      "|00018f77f2f0320c5...|            1|e5f2d52b802189ee6...|dd7ddc04e1b6c2c61...|2017-05-03 11:05:13|239.9|        19.93|             pet_shop|                 2|           30000|               50|               30|              40|\n",
      "|000229ec398224ef6...|            1|c777355d18b72b67a...|5b51032eddd242adc...|2018-01-18 14:48:30|199.0|        17.87|     moveis_decoracao|                 2|            3050|               33|               13|              33|\n",
      "|00024acbcdf0a6daa...|            1|7634da152a4610f15...|9d7a1d34a50524090...|2018-08-15 10:10:18|12.99|        12.79|           perfumaria|                 1|             200|               16|               10|              15|\n",
      "|00042b26cf59d7ce6...|            1|ac6c3623068f30de0...|df560393f3a51e745...|2017-02-13 13:57:51|199.9|        18.14|   ferramentas_jardim|                 1|            3750|               35|               40|              30|\n",
      "+--------------------+-------------+--------------------+--------------------+-------------------+-----+-------------+---------------------+------------------+----------------+-----------------+-----------------+----------------+\n",
      "only showing top 5 rows\n",
      "\n"
     ]
    }
   ],
   "source": [
    "df_join_order_items = spark.sql(\"\"\"\n",
    "SELECT\n",
    "    t1.*,\n",
    "    t2.product_category_name,\n",
    "    t2.product_photos_qty,\n",
    "    t2.product_weight_g, \n",
    "    t2.product_length_cm,\n",
    "    t2.product_height_cm,   \n",
    "    t2.product_width_cm                                                                            \n",
    "FROM df_order_items AS t1\n",
    "LEFT JOIN df_order_products AS t2 \n",
    "ON t1.product_id = t2.product_id\n",
    "ORDER BY order_id;                 \n",
    "\"\"\")\n",
    "df_join_order_items.createOrReplaceTempView(\"df_join_order_items\")\n",
    "df_join_order_items.show(5)"
   ]
  },
  {
   "cell_type": "markdown",
   "metadata": {},
   "source": [
    "## Sumarize product_category_name"
   ]
  },
  {
   "cell_type": "code",
   "execution_count": 17,
   "metadata": {},
   "outputs": [
    {
     "name": "stdout",
     "output_type": "stream",
     "text": [
      "+---------------------+-----+\n",
      "|product_category_name|count|\n",
      "+---------------------+-----+\n",
      "|cama_mesa_banho      |11115|\n",
      "|beleza_saude         |9670 |\n",
      "|esporte_lazer        |8641 |\n",
      "+---------------------+-----+\n",
      "only showing top 3 rows\n",
      "\n"
     ]
    }
   ],
   "source": [
    "from pyspark.sql import functions as F\n",
    "\n",
    "df_category_counts = df_join_order_items.groupBy(\"product_category_name\").count()\n",
    "df_category_counts.orderBy(F.desc(\"count\")).show(3, False)  # Exibe as 50 categorias mais comuns"
   ]
  },
  {
   "cell_type": "code",
   "execution_count": 16,
   "metadata": {},
   "outputs": [
    {
     "name": "stdout",
     "output_type": "stream",
     "text": [
      "['pcs', 'bebes', 'artes', 'cine_foto', 'moveis_decoracao', 'pc_gamer', 'construcao_ferramentas_construcao', 'tablets_impressao_imagem', 'artigos_de_festas', 'fashion_roupa_masculina', 'artigos_de_natal', 'la_cuisine', 'flores', 'livros_tecnicos', None, 'telefonia_fixa', 'construcao_ferramentas_seguranca', 'cool_stuff', 'eletrodomesticos', 'livros_importados', 'pet_shop', 'casa_construcao', 'livros_interesse_geral', 'instrumentos_musicais', 'moveis_colchao_e_estofado', 'fashion_roupa_feminina', 'portateis_cozinha_e_preparadores_de_alimentos', 'industria_comercio_e_negocios', 'beleza_saude', 'fraldas_higiene', 'fashion_roupa_infanto_juvenil', 'fashion_underwear_e_moda_praia', 'artes_e_artesanato', 'moveis_escritorio', 'eletronicos', 'malas_acessorios', 'informatica_acessorios', 'moveis_cozinha_area_de_servico_jantar_e_jardim', 'moveis_quarto', 'automotivo', 'agro_industria_e_comercio', 'brinquedos', 'construcao_ferramentas_jardim', 'audio', 'seguros_e_servicos', 'market_place', 'relogios_presentes', 'fashion_bolsas_e_acessorios', 'eletroportateis', 'cds_dvds_musicais', 'esporte_lazer', 'perfumaria', 'climatizacao', 'alimentos_bebidas', 'construcao_ferramentas_iluminacao', 'ferramentas_jardim', 'moveis_sala', 'alimentos', 'utilidades_domesticas', 'portateis_casa_forno_e_cafe', 'cama_mesa_banho', 'sinalizacao_e_seguranca', 'consoles_games', 'eletrodomesticos_2', 'casa_conforto_2', 'musica', 'fashion_calcados', 'papelaria', 'dvds_blu_ray', 'telefonia', 'casa_conforto', 'bebidas', 'fashion_esporte', 'construcao_ferramentas_ferramentas']\n"
     ]
    }
   ],
   "source": [
    "threshold = 12000  # Ajuste conforme necess�rio\n",
    "\n",
    "rare_categories = (\n",
    "    df_category_counts.filter(F.col(\"count\") < threshold)\n",
    "    .select(\"product_category_name\")\n",
    "    .rdd.flatMap(lambda x: x)\n",
    "    .collect()\n",
    ")\n",
    "\n",
    "print(rare_categories)  # Lista das categorias menos frequentes\n"
   ]
  },
  {
   "cell_type": "code",
   "execution_count": 19,
   "metadata": {},
   "outputs": [
    {
     "name": "stdout",
     "output_type": "stream",
     "text": [
      "+----------------------+-----+\n",
      "|product_category_group|count|\n",
      "+----------------------+-----+\n",
      "|                outros|25906|\n",
      "|            tecnologia|17349|\n",
      "|       casa_construcao|13991|\n",
      "|         esporte_lazer|13688|\n",
      "|          beleza_saude|13128|\n",
      "|                  moda| 9725|\n",
      "|      eletrodomesticos| 9040|\n",
      "|            pets_bebes| 5012|\n",
      "|     papelaria_cultura| 3630|\n",
      "|     alimentos_bebidas| 1181|\n",
      "+----------------------+-----+\n",
      "\n"
     ]
    }
   ],
   "source": [
    "from pyspark.sql import functions as F\n",
    "\n",
    "category_mapping = {\n",
    "    \"pcs\": \"tecnologia\",\n",
    "    \"pc_gamer\": \"tecnologia\",\n",
    "    \"tablets_impressao_imagem\": \"tecnologia\",\n",
    "    \"telefonia\": \"tecnologia\",\n",
    "    \"telefonia_fixa\": \"tecnologia\",\n",
    "    \"eletronicos\": \"tecnologia\",\n",
    "    \"informatica_acessorios\": \"tecnologia\",\n",
    "    \"audio\": \"tecnologia\",\n",
    "    \"cine_foto\": \"tecnologia\",\n",
    "    \"consoles_games\": \"tecnologia\",\n",
    "    \"cds_dvds_musicais\": \"tecnologia\",\n",
    "    \"dvds_blu_ray\": \"tecnologia\",\n",
    "    \n",
    "    \"moveis_decoracao\": \"casa_construcao\",\n",
    "    \"moveis_quarto\": \"casa_construcao\",\n",
    "    \"moveis_sala\": \"casa_construcao\",\n",
    "    \"moveis_cozinha_area_de_servico_jantar_e_jardim\": \"casa_construcao\",\n",
    "    \"moveis_colchao_e_estofado\": \"casa_construcao\",\n",
    "    \"moveis_escritorio\": \"casa_construcao\",\n",
    "    \"casa_construcao\": \"casa_construcao\",\n",
    "    \"construcao_ferramentas_construcao\": \"casa_construcao\",\n",
    "    \"construcao_ferramentas_seguranca\": \"casa_construcao\",\n",
    "    \"construcao_ferramentas_jardim\": \"casa_construcao\",\n",
    "    \"construcao_ferramentas_iluminacao\": \"casa_construcao\",\n",
    "    \"construcao_ferramentas_ferramentas\": \"casa_construcao\",\n",
    "    \"casa_conforto\": \"casa_construcao\",\n",
    "    \"casa_conforto_2\": \"casa_construcao\",\n",
    "    \"sinalizacao_e_seguranca\": \"casa_construcao\",\n",
    "    \n",
    "    \"eletrodomesticos\": \"eletrodomesticos\",\n",
    "    \"eletrodomesticos_2\": \"eletrodomesticos\",\n",
    "    \"portateis_cozinha_e_preparadores_de_alimentos\": \"eletrodomesticos\",\n",
    "    \"portateis_casa_forno_e_cafe\": \"eletrodomesticos\",\n",
    "    \"eletroportateis\": \"eletrodomesticos\",\n",
    "    \"climatizacao\": \"eletrodomesticos\",\n",
    "    \"utilidades_domesticas\": \"eletrodomesticos\",\n",
    "\n",
    "    \"fashion_roupa_feminina\": \"moda\",\n",
    "    \"fashion_roupa_masculina\": \"moda\",\n",
    "    \"fashion_roupa_infanto_juvenil\": \"moda\",\n",
    "    \"fashion_calcados\": \"moda\",\n",
    "    \"fashion_bolsas_e_acessorios\": \"moda\",\n",
    "    \"fashion_underwear_e_moda_praia\": \"moda\",\n",
    "    \"fashion_esporte\": \"moda\",\n",
    "    \"malas_acessorios\": \"moda\",\n",
    "    \"relogios_presentes\": \"moda\",\n",
    "\n",
    "    \"beleza_saude\": \"beleza_saude\",\n",
    "    \"perfumaria\": \"beleza_saude\",\n",
    "    \"fraldas_higiene\": \"beleza_saude\",\n",
    "\n",
    "    \"esporte_lazer\": \"esporte_lazer\",\n",
    "    \"brinquedos\": \"esporte_lazer\",\n",
    "    \"instrumentos_musicais\": \"esporte_lazer\",\n",
    "    \"musica\": \"esporte_lazer\",\n",
    "    \"agro_industria_e_comercio\": \"esporte_lazer\",\n",
    "\n",
    "    \"alimentos\": \"alimentos_bebidas\",\n",
    "    \"alimentos_bebidas\": \"alimentos_bebidas\",\n",
    "    \"bebidas\": \"alimentos_bebidas\",\n",
    "    \"la_cuisine\": \"alimentos_bebidas\",\n",
    "\n",
    "    \"pet_shop\": \"pets_bebes\",\n",
    "    \"bebes\": \"pets_bebes\",\n",
    "\n",
    "    \"livros_tecnicos\": \"papelaria_cultura\",\n",
    "    \"livros_importados\": \"papelaria_cultura\",\n",
    "    \"livros_interesse_geral\": \"papelaria_cultura\",\n",
    "    \"papelaria\": \"papelaria_cultura\",\n",
    "    \"artes\": \"papelaria_cultura\",\n",
    "    \"artes_e_artesanato\": \"papelaria_cultura\",\n",
    "\n",
    "    \"seguros_e_servicos\": \"outros\",\n",
    "    \"market_place\": \"outros\",\n",
    "    \"cool_stuff\": \"outros\",\n",
    "    \"artigos_de_festas\": \"outros\",\n",
    "    \"artigos_de_natal\": \"outros\",\n",
    "    \"industria_comercio_e_negocios\": \"outros\",\n",
    "    \"flores\": \"outros\",\n",
    "    None: \"outros\"\n",
    "}\n",
    "\n",
    "# Criar um dicion�rio Spark com F.create_map\n",
    "category_map_expr = F.create_map(\n",
    "    *sum([[F.lit(k), F.lit(v)] for k, v in category_mapping.items()], [])\n",
    ")\n",
    "\n",
    "# Aplicar a transforma��o\n",
    "df_join_order_items = df_join_order_items.withColumn(\n",
    "    \"product_category_group\",\n",
    "    F.coalesce(category_map_expr[F.col(\"product_category_name\")], F.lit(\"outros\"))\n",
    ")\n",
    "\n",
    "# Verificar os grupos criados\n",
    "df_join_order_items.groupBy(\"product_category_group\").count().orderBy(F.desc(\"count\")).show()\n"
   ]
  },
  {
   "cell_type": "code",
   "execution_count": 20,
   "metadata": {},
   "outputs": [
    {
     "name": "stdout",
     "output_type": "stream",
     "text": [
      "+--------------------+-------------+--------------------+--------------------+-------------------+-----+-------------+---------------------+------------------+----------------+-----------------+-----------------+----------------+----------------------+\n",
      "|            order_id|order_item_id|          product_id|           seller_id|shipping_limit_date|price|freight_value|product_category_name|product_photos_qty|product_weight_g|product_length_cm|product_height_cm|product_width_cm|product_category_group|\n",
      "+--------------------+-------------+--------------------+--------------------+-------------------+-----+-------------+---------------------+------------------+----------------+-----------------+-----------------+----------------+----------------------+\n",
      "|00010242fe8c5a6d1...|            1|4244733e06e7ecb49...|48436dade18ac8b2b...|2017-09-19 09:45:35| 58.9|        13.29|           cool_stuff|                 4|             650|               28|                9|              14|                outros|\n",
      "|00018f77f2f0320c5...|            1|e5f2d52b802189ee6...|dd7ddc04e1b6c2c61...|2017-05-03 11:05:13|239.9|        19.93|             pet_shop|                 2|           30000|               50|               30|              40|            pets_bebes|\n",
      "|000229ec398224ef6...|            1|c777355d18b72b67a...|5b51032eddd242adc...|2018-01-18 14:48:30|199.0|        17.87|     moveis_decoracao|                 2|            3050|               33|               13|              33|       casa_construcao|\n",
      "|00024acbcdf0a6daa...|            1|7634da152a4610f15...|9d7a1d34a50524090...|2018-08-15 10:10:18|12.99|        12.79|           perfumaria|                 1|             200|               16|               10|              15|          beleza_saude|\n",
      "|00042b26cf59d7ce6...|            1|ac6c3623068f30de0...|df560393f3a51e745...|2017-02-13 13:57:51|199.9|        18.14|   ferramentas_jardim|                 1|            3750|               35|               40|              30|                outros|\n",
      "+--------------------+-------------+--------------------+--------------------+-------------------+-----+-------------+---------------------+------------------+----------------+-----------------+-----------------+----------------+----------------------+\n",
      "only showing top 5 rows\n",
      "\n"
     ]
    }
   ],
   "source": [
    "df_join_order_items.show(5)"
   ]
  },
  {
   "cell_type": "code",
   "execution_count": 24,
   "metadata": {},
   "outputs": [
    {
     "name": "stderr",
     "output_type": "stream",
     "text": [
      "25/02/15 11:44:00 WARN SparkStringUtils: Truncated the string representation of a plan since it was too large. This behavior can be adjusted by setting 'spark.sql.debug.maxToStringFields'.\n"
     ]
    }
   ],
   "source": [
    "df_join_order_items.createOrReplaceTempView(\"df_join_order_items\")"
   ]
  },
  {
   "cell_type": "code",
   "execution_count": 25,
   "metadata": {},
   "outputs": [
    {
     "name": "stdout",
     "output_type": "stream",
     "text": [
      "+--------------------+--------------------+------------+------------------------+-------------------+----------------------------+-----------------------------+-----------------------------+\n",
      "|            order_id|         customer_id|order_status|order_purchase_timestamp|  order_approved_at|order_delivered_carrier_date|order_delivered_customer_date|order_estimated_delivery_date|\n",
      "+--------------------+--------------------+------------+------------------------+-------------------+----------------------------+-----------------------------+-----------------------------+\n",
      "|e481f51cbdc54678b...|9ef432eb625129730...|   delivered|     2017-10-02 10:56:33|2017-10-02 11:07:15|         2017-10-04 19:55:00|          2017-10-10 21:25:13|          2017-10-18 00:00:00|\n",
      "|53cdb2fc8bc7dce0b...|b0830fb4747a6c6d2...|   delivered|     2018-07-24 20:41:37|2018-07-26 03:24:27|         2018-07-26 14:31:00|          2018-08-07 15:27:45|          2018-08-13 00:00:00|\n",
      "|47770eb9100c2d0c4...|41ce2a54c0b03bf34...|   delivered|     2018-08-08 08:38:49|2018-08-08 08:55:23|         2018-08-08 13:50:00|          2018-08-17 18:06:29|          2018-09-04 00:00:00|\n",
      "|949d5b44dbf5de918...|f88197465ea7920ad...|   delivered|     2017-11-18 19:28:06|2017-11-18 19:45:59|         2017-11-22 13:39:59|          2017-12-02 00:28:42|          2017-12-15 00:00:00|\n",
      "|ad21c59c0840e6cb8...|8ab97904e6daea886...|   delivered|     2018-02-13 21:18:39|2018-02-13 22:20:29|         2018-02-14 19:46:34|          2018-02-16 18:17:02|          2018-02-26 00:00:00|\n",
      "+--------------------+--------------------+------------+------------------------+-------------------+----------------------------+-----------------------------+-----------------------------+\n",
      "only showing top 5 rows\n",
      "\n"
     ]
    }
   ],
   "source": [
    "df_orders.show(5)"
   ]
  },
  {
   "cell_type": "markdown",
   "metadata": {},
   "source": [
    "## Join order_items and orders"
   ]
  },
  {
   "cell_type": "code",
   "execution_count": 38,
   "metadata": {},
   "outputs": [
    {
     "name": "stdout",
     "output_type": "stream",
     "text": [
      "+--------------------+--------------------+------------+------------------------+-------------------+----------------------------+-----------------------------+-----------------------------+--------------------+----------------------+------------------+-----------+-------+------------+----------+-------------+----------------+--------------------------+--------------+\n",
      "|            order_id|         customer_id|order_status|order_purchase_timestamp|  order_approved_at|order_delivered_carrier_date|order_delivered_customer_date|order_estimated_delivery_date|           seller_id|product_category_group|product_photos_qty|total_price|density|price_per_kg|volume_cm3|freight_ratio|days_to_delivery|days_to_estimated_delivery|delivery_delay|\n",
      "+--------------------+--------------------+------------+------------------------+-------------------+----------------------------+-----------------------------+-----------------------------+--------------------+----------------------+------------------+-----------+-------+------------+----------+-------------+----------------+--------------------------+--------------+\n",
      "|00010242fe8c5a6d1...|3ce436f183e68e078...|   delivered|     2017-09-13 08:59:02|2017-09-13 09:45:35|         2017-09-19 18:34:16|          2017-09-20 23:43:48|          2017-09-29 00:00:00|48436dade18ac8b2b...|                outros|                 4|      72.19|   0.18|       90.62|      3528|         0.23|               7|                        16|            -9|\n",
      "|00018f77f2f0320c5...|f6dd3ec061db4e398...|   delivered|     2017-04-26 10:53:06|2017-04-26 11:05:13|         2017-05-04 14:35:00|          2017-05-12 16:04:24|          2017-05-15 00:00:00|dd7ddc04e1b6c2c61...|            pets_bebes|                 2|     259.83|    0.5|         8.0|     60000|         0.08|              16|                        19|            -3|\n",
      "|000229ec398224ef6...|6489ae5e4333f3693...|   delivered|     2018-01-14 14:33:31|2018-01-14 14:48:30|         2018-01-16 12:36:48|          2018-01-22 13:19:16|          2018-02-05 00:00:00|5b51032eddd242adc...|       casa_construcao|                 2|     216.87|   0.22|       65.25|     14157|         0.09|               8|                        22|           -14|\n",
      "|00024acbcdf0a6daa...|d4eb9395c8c0431ee...|   delivered|     2018-08-08 10:00:35|2018-08-08 10:10:18|         2018-08-10 13:28:00|          2018-08-14 13:32:39|          2018-08-20 00:00:00|9d7a1d34a50524090...|          beleza_saude|                 1|      25.78|   0.08|       64.95|      2400|         0.98|               6|                        12|            -6|\n",
      "|00042b26cf59d7ce6...|58dbd0b2d70206bf4...|   delivered|     2017-02-04 13:57:51|2017-02-04 14:10:13|         2017-02-16 09:46:09|          2017-03-01 16:42:31|          2017-03-17 00:00:00|df560393f3a51e745...|                outros|                 1|     218.04|   0.09|       53.31|     42000|         0.09|              25|                        41|           -16|\n",
      "+--------------------+--------------------+------------+------------------------+-------------------+----------------------------+-----------------------------+-----------------------------+--------------------+----------------------+------------------+-----------+-------+------------+----------+-------------+----------------+--------------------------+--------------+\n",
      "only showing top 5 rows\n",
      "\n"
     ]
    }
   ],
   "source": [
    "df_join_order_items_and_orders = spark.sql(\"\"\"\n",
    "SELECT\n",
    "    t1.*,\n",
    "    t2.seller_id,                                      \n",
    "    t2.product_category_group,\n",
    "    t2.product_photos_qty,\n",
    "    ROUND((t2.price + t2.freight_value), 2) AS total_price,\n",
    "    ROUND((t2.product_weight_g / NULLIF((t2.product_length_cm * t2.product_height_cm * t2.product_width_cm), 0)), 2) AS density,\n",
    "    ROUND((t2.price / NULLIF((t2.product_weight_g / 1000), 0)), 2) AS price_per_kg,\n",
    "    ROUND((t2.product_length_cm * t2.product_height_cm * t2.product_width_cm), 2) AS volume_cm3,\n",
    "    ROUND((t2.freight_value / NULLIF(t2.price, 0)), 2) AS freight_ratio,\n",
    "    DATEDIFF(t1.order_delivered_customer_date, t1.order_approved_at) AS days_to_delivery,\n",
    "    DATEDIFF(t1.order_estimated_delivery_date, t1.order_purchase_timestamp) AS days_to_estimated_delivery,\n",
    "    DATEDIFF(t1.order_delivered_customer_date, t1.order_estimated_delivery_date) AS delivery_delay                                                                                    \n",
    "FROM df_orders AS t1\n",
    "LEFT JOIN df_join_order_items AS t2 \n",
    "ON t1.order_id = t2.order_id\n",
    "WHERE order_status = 'delivered'\n",
    "ORDER BY order_id;                 \n",
    "\"\"\")\n",
    "\n",
    "df_join_order_items_and_orders.createOrReplaceTempView(\"df_join_order_items_and_orders\")\n",
    "df_join_order_items_and_orders.show(5)"
   ]
  },
  {
   "cell_type": "code",
   "execution_count": 161,
   "metadata": {},
   "outputs": [
    {
     "name": "stdout",
     "output_type": "stream",
     "text": [
      "+--------------------+-------------------+----------------------+------------------+-----------+-------+------------+----------+-------------+----------------+--------------------------+--------------+---------+-----------+\n",
      "|           seller_id|order_purchase_date|product_category_group|product_photos_qty|total_price|density|price_per_kg|volume_cm3|freight_ratio|days_to_delivery|days_to_estimated_delivery|delivery_delay|PK_DATREF|PK_DAT_PROC|\n",
      "+--------------------+-------------------+----------------------+------------------+-----------+-------+------------+----------+-------------+----------------+--------------------------+--------------+---------+-----------+\n",
      "|0015a82c2db000af6...|         2017-09-26|      eletrodomesticos|                 2|     916.02|   0.19|       75.85|     61920|         0.02|              10|                        34|           -23|   201709| 2025-02-15|\n",
      "|0015a82c2db000af6...|         2017-10-12|      eletrodomesticos|                 2|     916.02|   0.19|       75.85|     61920|         0.02|              12|                        25|           -13|   201710| 2025-02-15|\n",
      "|0015a82c2db000af6...|         2017-10-18|      eletrodomesticos|                 2|     916.02|   0.19|       75.85|     61920|         0.02|               9|                        22|           -13|   201710| 2025-02-15|\n",
      "|001cca7ae9ae17fb1...|         2017-02-04|                outros|                 4|     121.05|   0.37|       11.26|     24080|         0.21|              30|                        37|            -7|   201702| 2025-02-15|\n",
      "|001cca7ae9ae17fb1...|         2017-02-18|                outros|                 4|     114.77|   0.37|       11.26|     24080|         0.15|               4|                        31|           -26|   201702| 2025-02-15|\n",
      "+--------------------+-------------------+----------------------+------------------+-----------+-------+------------+----------+-------------+----------------+--------------------------+--------------+---------+-----------+\n",
      "only showing top 5 rows\n",
      "\n"
     ]
    }
   ],
   "source": [
    "df_seller_orders = spark.sql(\"\"\"\n",
    "SELECT\n",
    "    seller_id,\n",
    "    to_date(order_purchase_timestamp) AS order_purchase_date, \n",
    "    product_category_group,\n",
    "    product_photos_qty, \n",
    "    total_price,\n",
    "    density,\n",
    "    price_per_kg,\n",
    "    volume_cm3,\n",
    "    freight_ratio,\n",
    "    days_to_delivery,\n",
    "    days_to_estimated_delivery,\n",
    "    delivery_delay,\n",
    "    date_format(to_date(order_purchase_timestamp), 'yyyyMM') as PK_DATREF,\n",
    "    CURRENT_DATE as PK_DAT_PROC                                                                                                                                                                                                                                                                                                                                                                                                                \n",
    "FROM df_join_order_items_and_orders\n",
    "ORDER BY 1,2;                 \n",
    "\"\"\")\n",
    "\n",
    "df_seller_orders.createOrReplaceTempView(\"df_seller_orders\")\n",
    "df_seller_orders.show(5)"
   ]
  },
  {
   "cell_type": "code",
   "execution_count": null,
   "metadata": {},
   "outputs": [
    {
     "name": "stdout",
     "output_type": "stream",
     "text": [
      "+-------------+-------------+\n",
      "|min_PK_DATREF|max_PK_DATREF|\n",
      "+-------------+-------------+\n",
      "|       201609|       201808|\n",
      "+-------------+-------------+\n",
      "\n"
     ]
    }
   ],
   "source": [
    "from pyspark.sql.functions import max, min\n",
    "df_seller_orders.select(\n",
    "    min(\"PK_DATREF\").alias(\"min_PK_DATREF\"),  \n",
    "    max(\"PK_DATREF\").alias(\"max_PK_DATREF\")\n",
    ").show()\n"
   ]
  },
  {
   "cell_type": "code",
   "execution_count": 304,
   "metadata": {},
   "outputs": [
    {
     "name": "stdout",
     "output_type": "stream",
     "text": [
      "+--------------------+-------------------+----------------------+------------------+-----------+-------+------------+----------+-------------+----------------+--------------------------+--------------+---------+\n",
      "|           seller_id|order_purchase_date|product_category_group|product_photos_qty|total_price|density|price_per_kg|volume_cm3|freight_ratio|days_to_delivery|days_to_estimated_delivery|delivery_delay|PK_DATREF|\n",
      "+--------------------+-------------------+----------------------+------------------+-----------+-------+------------+----------+-------------+----------------+--------------------------+--------------+---------+\n",
      "|00720abe85ba08598...|         2018-08-03|      eletrodomesticos|                 2|     141.67|   0.04|       220.0|     13875|         0.07|              10|                         5|             5|   201808|\n",
      "|00ee68308b45bc5e2...|         2018-08-09|                outros|                 1|     115.96|   0.03|        82.5|     34639|         0.17|              -5|                         5|             1|   201808|\n",
      "|00ee68308b45bc5e2...|         2018-08-09|                outros|                 1|     115.96|   0.03|        82.5|     34639|         0.17|              -5|                         5|             1|   201808|\n",
      "|01266d4c46afa5196...|         2018-08-19|       casa_construcao|                 1|      75.47|   1.07|      142.42|       374|         0.32|               7|                        17|            -8|   201808|\n",
      "|01266d4c46afa5196...|         2018-08-02|       casa_construcao|                 1|      23.35|   1.02|       21.96|       440|         1.36|               5|                        14|            -9|   201808|\n",
      "+--------------------+-------------------+----------------------+------------------+-----------+-------+------------+----------+-------------+----------------+--------------------------+--------------+---------+\n",
      "only showing top 5 rows\n",
      "\n"
     ]
    }
   ],
   "source": [
    "# Definir as datas de referência\n",
    "datref_min = 201802  \n",
    "datref = 201808  \n",
    "\n",
    "df_safra_01 = spark.sql(f\"\"\"\n",
    "SELECT\n",
    "    seller_id,\n",
    "    order_purchase_date, \n",
    "    product_category_group,\n",
    "    product_photos_qty, \n",
    "    total_price,\n",
    "    density,\n",
    "    price_per_kg,\n",
    "    volume_cm3,\n",
    "    freight_ratio,\n",
    "    days_to_delivery,\n",
    "    days_to_estimated_delivery,\n",
    "    delivery_delay,\n",
    "    PK_DATREF\n",
    "FROM df_seller_orders\n",
    "WHERE PK_DATREF BETWEEN {datref_min} AND {datref} \n",
    "AND seller_id IN (\n",
    "    SELECT DISTINCT seller_id \n",
    "    FROM df_seller_orders \n",
    "    WHERE PK_DATREF = {datref}\n",
    ")\n",
    "ORDER BY PK_DATREF DESC, seller_id ASC;\n",
    "\"\"\")\n",
    "\n",
    "df_safra_01.createOrReplaceTempView(\"df_safra_01\")\n",
    "df_safra_01.show(5)\n"
   ]
  },
  {
   "cell_type": "markdown",
   "metadata": {},
   "source": [
    "## Creating window flags for history:"
   ]
  },
  {
   "cell_type": "code",
   "execution_count": 305,
   "metadata": {},
   "outputs": [
    {
     "data": {
      "text/plain": [
       "45068"
      ]
     },
     "execution_count": 305,
     "metadata": {},
     "output_type": "execute_result"
    }
   ],
   "source": [
    "df_temp_01 = spark.sql(\"\"\"\n",
    "SELECT\n",
    "    *,\n",
    "      CASE\n",
    "        WHEN order_purchase_date BETWEEN DATE_ADD(MAX(order_purchase_date) OVER (PARTITION BY seller_id), -30) AND MAX(order_purchase_date) OVER (PARTITION BY seller_id) THEN 1\n",
    "        ELSE 0\n",
    "    END AS U1M,                       \n",
    "      CASE\n",
    "        WHEN order_purchase_date BETWEEN DATE_ADD(MAX(order_purchase_date) OVER (PARTITION BY seller_id), -90) AND MAX(order_purchase_date) OVER (PARTITION BY seller_id) THEN 1\n",
    "        ELSE 0\n",
    "    END AS U3M,\n",
    "    CASE\n",
    "        WHEN order_purchase_date BETWEEN DATE_ADD(MAX(order_purchase_date) OVER (PARTITION BY seller_id), -180) AND MAX(order_purchase_date) OVER (PARTITION BY seller_id) THEN 1\n",
    "        ELSE 0\n",
    "    END AS U6M\n",
    "FROM df_safra_01\n",
    "ORDER BY seller_id, order_purchase_date;\n",
    "\"\"\")\n",
    "df_temp_01.createOrReplaceTempView(\"df_temp_01\")\n",
    "df_temp_01.count()\n"
   ]
  },
  {
   "cell_type": "code",
   "execution_count": 306,
   "metadata": {},
   "outputs": [
    {
     "name": "stdout",
     "output_type": "stream",
     "text": [
      "+--------------------+-------------------+----------------------+------------------+-----------+-------+------------+----------+-------------+----------------+--------------------------+--------------+---------+---+---+---+\n",
      "|           seller_id|order_purchase_date|product_category_group|product_photos_qty|total_price|density|price_per_kg|volume_cm3|freight_ratio|days_to_delivery|days_to_estimated_delivery|delivery_delay|PK_DATREF|U1M|U3M|U6M|\n",
      "+--------------------+-------------------+----------------------+------------------+-----------+-------+------------+----------+-------------+----------------+--------------------------+--------------+---------+---+---+---+\n",
      "|00720abe85ba08598...|         2018-02-06|      eletrodomesticos|                 3|      87.36|   0.06|       91.76|     13500|         0.12|               9|                        16|            -7|   201802|  0|  0|  1|\n",
      "|00720abe85ba08598...|         2018-03-02|      eletrodomesticos|                 2|       28.6|   0.03|        54.0|      9000|         1.12|              10|                        21|           -11|   201803|  0|  0|  1|\n",
      "|00720abe85ba08598...|         2018-03-02|      eletrodomesticos|                 2|       28.6|   0.03|        54.0|      9000|         1.12|              10|                        21|           -11|   201803|  0|  0|  1|\n",
      "|00720abe85ba08598...|         2018-03-02|      eletrodomesticos|                 2|       28.6|   0.03|        54.0|      9000|         1.12|              10|                        21|           -11|   201803|  0|  0|  1|\n",
      "|00720abe85ba08598...|         2018-03-22|      eletrodomesticos|                 2|      28.73|   0.03|        54.0|      9000|         1.13|              38|                        26|            14|   201803|  0|  0|  1|\n",
      "+--------------------+-------------------+----------------------+------------------+-----------+-------+------------+----------+-------------+----------------+--------------------------+--------------+---------+---+---+---+\n",
      "only showing top 5 rows\n",
      "\n"
     ]
    }
   ],
   "source": [
    "df_temp_01.show(5)"
   ]
  },
  {
   "cell_type": "markdown",
   "metadata": {},
   "source": [
    "## Creating first-layer explanatory variables"
   ]
  },
  {
   "cell_type": "code",
   "execution_count": 307,
   "metadata": {},
   "outputs": [
    {
     "data": {
      "text/plain": [
       "1261"
      ]
     },
     "execution_count": 307,
     "metadata": {},
     "output_type": "execute_result"
    }
   ],
   "source": [
    "df_temp_02 = spark.sql(\"\"\"\n",
    "SELECT\n",
    "    seller_id,\n",
    "    max(date_format(to_date(order_purchase_date), 'yyyyMM')) as PK_DATREF,                   \n",
    "    round(sum(total_price),2) as VL_TOT_PRICE,\n",
    "    round(avg(total_price),2) as VL_MED_PRICE,\n",
    "    round(max(total_price),2) as VL_MAX_PRICE,\n",
    "    round(min(total_price),2) as VL_MIN_PRICE,\n",
    "    round(sum(product_photos_qty),2) as VL_TOT_QTD_PHOTOS,\n",
    "    round(avg(product_photos_qty),2) as VL_MED_QTD_PHOTOS,\n",
    "    round(max(product_photos_qty),2) as VL_MAX_QTD_PHOTOS,\n",
    "    round(min(product_photos_qty),2) as VL_MIN_QTD_PHOTOS,\n",
    "    round(sum(density),2) as VL_TOT_DENSITY,\n",
    "    round(avg(density),2) as VL_MED_DENSITY,\n",
    "    round(max(density),2) as VL_MAX_DENSITY,\n",
    "    round(min(density),2) as VL_MIN_DENSITY,\n",
    "    round(sum(price_per_kg),2) as VL_TOT_PRC_PER_KG,\n",
    "    round(avg(price_per_kg),2) as VL_MED_PRC_PER_KG,\n",
    "    round(max(price_per_kg),2) as VL_MAX_PRC_PER_KG,\n",
    "    round(min(price_per_kg),2) as VL_MIN_PRC_PER_KG, \n",
    "    round(sum(volume_cm3),2) as VL_TOT_VOL_CM3,\n",
    "    round(avg(volume_cm3),2) as VL_MED_VOL_CM3,\n",
    "    round(max(volume_cm3),2) as VL_MAX_VOL_CM3,\n",
    "    round(min(volume_cm3),2) as VL_MIN_VOL_CM3,\n",
    "    round(sum(freight_ratio),2) as VL_TOT_COST_REL_FRETE,\n",
    "    round(avg(freight_ratio),2) as VL_MED_COST_REL_FRETE,\n",
    "    round(max(freight_ratio),2) as VL_MAX_COST_REL_FRETE,\n",
    "    round(min(freight_ratio),2) as VL_MIN_COST_REL_FRETE,  \n",
    "    round(sum(days_to_delivery),2) as VL_TOT_DAYS_DELIVERY,\n",
    "    round(avg(days_to_delivery),2) as VL_MED_DAYS_DELIVERY,\n",
    "    round(max(days_to_delivery),2) as VL_MAX_DAYS_DELIVERY,\n",
    "    round(min(days_to_delivery),2) as VL_MIN_DAYS_DELIVERY,    \n",
    "    round(sum(days_to_estimated_delivery),2) as VL_TOT_DAYS_ESTIMATED_DELIVERY,\n",
    "    round(avg(days_to_estimated_delivery),2) as VL_MED_DAYS_ESTIMATED_DELIVERY,\n",
    "    round(max(days_to_estimated_delivery),2) as VL_MAX_DAYS_ESTIMATED_DELIVERY,\n",
    "    round(min(days_to_estimated_delivery),2) as VL_MIN_DAYS_ESTIMATED_DELIVERY,  \n",
    "    round(sum(delivery_delay),2) as VL_TOT_DELIVERY_DELAY,\n",
    "    round(avg(delivery_delay),2) as VL_MED_DELIVERY_DELAY,\n",
    "    round(max(delivery_delay),2) as VL_MAX_DELIVERY_DELAY,\n",
    "    round(min(delivery_delay),2) as VL_MIN_DELIVERY_DELAY,                                                                                                                                                                                              \n",
    "    round(sum(case when product_category_group = 'outros' then total_price else 0 end),2) as VL_TOT_CONS_OUTROS,\n",
    "    round(avg(case when product_category_group = 'outros' then total_price else NULL end),2) as VL_MED_CONS_OUTROS,\n",
    "    round(avg(case when product_category_group = 'outros' and U1M = 1 then total_price else NULL end),2) as VL_MED_U1M_CONS_OUTROS,                   \n",
    "    round(avg(case when product_category_group = 'outros' and U3M = 1 then total_price else NULL end),2) as VL_MED_U3M_CONS_OUTROS,\n",
    "    round(avg(case when product_category_group = 'outros' and U6M = 1 then total_price else NULL end),2) as VL_MED_U6M_CONS_OUTROS,\n",
    "    round(sum(case when product_category_group = 'tecnologia' then total_price else 0 end),2) as VL_TOT_CONS_TECN,\n",
    "    round(avg(case when product_category_group = 'tecnologia' then total_price else NULL end),2) as VL_MED_CONS_TECN,\n",
    "    round(avg(case when product_category_group = 'tecnologia' and U1M = 1 then total_price else NULL end),2) as VL_MED_U1M_CONS_TECN,                   \n",
    "    round(avg(case when product_category_group = 'tecnologia' and U3M = 1 then total_price else NULL end),2) as VL_MED_U3M_CONS_TECN,\n",
    "    round(avg(case when product_category_group = 'tecnologia' and U6M = 1 then total_price else NULL end),2) as VL_MED_U6M_CONS_TECN,\n",
    "    round(sum(case when product_category_group = 'casa_construcao' then total_price else 0 end),2) as VL_TOT_CONS_CASA_CONSTR,\n",
    "    round(avg(case when product_category_group = 'casa_construcao' then total_price else NULL end),2) as VL_MED_CONS_CASA_CONSTR,\n",
    "    round(avg(case when product_category_group = 'casa_construcao' and U1M = 1 then total_price else NULL end),2) as VL_MED_U1M_CONS_CASA_CONSTR,                   \n",
    "    round(avg(case when product_category_group = 'casa_construcao' and U3M = 1 then total_price else NULL end),2) as VL_MED_U3M_CONS_CASA_CONSTR,\n",
    "    round(avg(case when product_category_group = 'casa_construcao' and U6M = 1 then total_price else NULL end),2) as VL_MED_U6M_CONS_CASA_CONSTR,\n",
    "    round(sum(case when product_category_group = 'esporte_lazer' then total_price else 0 end),2) as VL_TOT_CONS_ESP_LZR,\n",
    "    round(avg(case when product_category_group = 'esporte_lazer' then total_price else NULL end),2) as VL_MED_CONS_ESP_LZR,\n",
    "    round(avg(case when product_category_group = 'esporte_lazer' and U1M = 1 then total_price else NULL end),2) as VL_MED_U1M_CONS_ESP_LZR,                   \n",
    "    round(avg(case when product_category_group = 'esporte_lazer' and U3M = 1 then total_price else NULL end),2) as VL_MED_U3M_CONS_ESP_LZR,\n",
    "    round(avg(case when product_category_group = 'esporte_lazer' and U6M = 1 then total_price else NULL end),2) as VL_MED_U6M_CONS_ESP_LZR, \n",
    "    round(sum(case when product_category_group = 'beleza_saude' then total_price else 0 end),2) as VL_TOT_CONS_BLZ_SAUDE,\n",
    "    round(avg(case when product_category_group = 'beleza_saude' then total_price else NULL end),2) as VL_MED_CONS_BLZ_SAUDE,\n",
    "    round(avg(case when product_category_group = 'beleza_saude' and U1M = 1 then total_price else NULL end),2) as VL_MED_U1M_CONS_BLZ_SAUDE,                   \n",
    "    round(avg(case when product_category_group = 'beleza_saude' and U3M = 1 then total_price else NULL end),2) as VL_MED_U3M_CONS_BLZ_SAUDE,\n",
    "    round(avg(case when product_category_group = 'beleza_saude' and U6M = 1 then total_price else NULL end),2) as VL_MED_U6M_CONS_BLZ_SAUDE, \n",
    "    round(sum(case when product_category_group = 'moda' then total_price else 0 end),2) as VL_TOT_CONS_MODA,\n",
    "    round(avg(case when product_category_group = 'moda' then total_price else NULL end),2) as VL_MED_CONS_MODA,\n",
    "    round(avg(case when product_category_group = 'moda' and U1M = 1 then total_price else NULL end),2) as VL_MED_U1M_CONS_MODA,                   \n",
    "    round(avg(case when product_category_group = 'moda' and U3M = 1 then total_price else NULL end),2) as VL_MED_U3M_CONS_MODA,\n",
    "    round(avg(case when product_category_group = 'moda' and U6M = 1 then total_price else NULL end),2) as VL_MED_U6M_CONS_MODA,\n",
    "    round(sum(case when product_category_group = 'eletrodomesticos' then total_price else 0 end),2) as VL_TOT_CONS_ELETRODOMESTC,\n",
    "    round(avg(case when product_category_group = 'eletrodomesticos' then total_price else NULL end),2) as VL_MED_CONS_ELETRODOMESTC,\n",
    "    round(avg(case when product_category_group = 'eletrodomesticos' and U1M = 1 then total_price else NULL end),2) as VL_MED_U1M_CONS_ELETRODOMESTC,                   \n",
    "    round(avg(case when product_category_group = 'eletrodomesticos' and U3M = 1 then total_price else NULL end),2) as VL_MED_U3M_CONS_ELETRODOMESTC,\n",
    "    round(avg(case when product_category_group = 'eletrodomesticos' and U6M = 1 then total_price else NULL end),2) as VL_MED_U6M_CONS_ELETRODOMESTC,\n",
    "    round(sum(case when product_category_group = 'pets_bebes' then total_price else 0 end),2) as VL_TOT_CONS_PETS_AND_BEBES,\n",
    "    round(avg(case when product_category_group = 'pets_bebes' then total_price else NULL end),2) as VL_MED_CONS_PETS_AND_BEBES,\n",
    "    round(avg(case when product_category_group = 'pets_bebes' and U1M = 1 then total_price else NULL end),2) as VL_MED_U1M_CONS_PETS_AND_BEBES,                   \n",
    "    round(avg(case when product_category_group = 'pets_bebes' and U3M = 1 then total_price else NULL end),2) as VL_MED_U3M_CONS_PETS_AND_BEBES,\n",
    "    round(avg(case when product_category_group = 'pets_bebes' and U6M = 1 then total_price else NULL end),2) as VL_MED_U6M_CONS_PETS_AND_BEBES,\n",
    "    round(sum(case when product_category_group = 'papelaria_cultura' then total_price else 0 end),2) as VL_TOT_CONS_PAPEL_AND_CULT,\n",
    "    round(avg(case when product_category_group = 'papelaria_cultura' then total_price else NULL end),2) as VL_MED_CONS_PAPEL_AND_CULT,\n",
    "    round(avg(case when product_category_group = 'papelaria_cultura' and U1M = 1 then total_price else NULL end),2) as VL_MED_U1M_CONS_PAPEL_AND_CULT,                   \n",
    "    round(avg(case when product_category_group = 'papelaria_cultura' and U3M = 1 then total_price else NULL end),2) as VL_MED_U3M_CONS_PAPEL_AND_CULT,\n",
    "    round(avg(case when product_category_group = 'papelaria_cultura' and U6M = 1 then total_price else NULL end),2) as VL_MED_U6M_CONS_PAPEL_AND_CULT, \n",
    "    round(sum(case when product_category_group = 'alimentos_bebidas' then total_price else 0 end),2) as VL_TOT_CONS_ALIM_AND_BEBIDAS,\n",
    "    round(avg(case when product_category_group = 'alimentos_bebidas' then total_price else NULL end),2) as VL_MED_CONS_ALIM_AND_BEBIDAS,\n",
    "    round(avg(case when product_category_group = 'alimentos_bebidas' and U1M = 1 then total_price else NULL end),2) as VL_MED_U1M_CONS_ALIM_AND_BEBIDAS,                   \n",
    "    round(avg(case when product_category_group = 'alimentos_bebidas' and U3M = 1 then total_price else NULL end),2) as VL_MED_U3M_CONS_ALIM_AND_BEBIDAS,\n",
    "    round(avg(case when product_category_group = 'alimentos_bebidas' and U6M = 1 then total_price else NULL end),2) as VL_MED_U6M_CONS_ALIM_AND_BEBIDAS                                                                                                                                                                                                                           \n",
    "FROM df_temp_01\n",
    "GROUP BY seller_id\n",
    "ORDER BY seller_id\n",
    "\"\"\")\n",
    "df_temp_02.createOrReplaceTempView(\"df_temp_02\")\n",
    "df_temp_02.count()"
   ]
  },
  {
   "cell_type": "code",
   "execution_count": 308,
   "metadata": {},
   "outputs": [
    {
     "name": "stdout",
     "output_type": "stream",
     "text": [
      "+--------------------+---------+------------+------------+------------+------------+-----------------+-----------------+-----------------+-----------------+--------------+--------------+--------------+--------------+-----------------+-----------------+-----------------+-----------------+--------------+--------------+--------------+--------------+---------------------+---------------------+---------------------+---------------------+--------------------+--------------------+--------------------+--------------------+------------------------------+------------------------------+------------------------------+------------------------------+---------------------+---------------------+---------------------+---------------------+------------------+------------------+----------------------+----------------------+----------------------+----------------+----------------+--------------------+--------------------+--------------------+-----------------------+-----------------------+---------------------------+---------------------------+---------------------------+-------------------+-------------------+-----------------------+-----------------------+-----------------------+---------------------+---------------------+-------------------------+-------------------------+-------------------------+----------------+----------------+--------------------+--------------------+--------------------+-------------------------+-------------------------+-----------------------------+-----------------------------+-----------------------------+--------------------------+--------------------------+------------------------------+------------------------------+------------------------------+--------------------------+--------------------------+------------------------------+------------------------------+------------------------------+----------------------------+----------------------------+--------------------------------+--------------------------------+--------------------------------+\n",
      "|           seller_id|PK_DATREF|VL_TOT_PRICE|VL_MED_PRICE|VL_MAX_PRICE|VL_MIN_PRICE|VL_TOT_QTD_PHOTOS|VL_MED_QTD_PHOTOS|VL_MAX_QTD_PHOTOS|VL_MIN_QTD_PHOTOS|VL_TOT_DENSITY|VL_MED_DENSITY|VL_MAX_DENSITY|VL_MIN_DENSITY|VL_TOT_PRC_PER_KG|VL_MED_PRC_PER_KG|VL_MAX_PRC_PER_KG|VL_MIN_PRC_PER_KG|VL_TOT_VOL_CM3|VL_MED_VOL_CM3|VL_MAX_VOL_CM3|VL_MIN_VOL_CM3|VL_TOT_COST_REL_FRETE|VL_MED_COST_REL_FRETE|VL_MAX_COST_REL_FRETE|VL_MIN_COST_REL_FRETE|VL_TOT_DAYS_DELIVERY|VL_MED_DAYS_DELIVERY|VL_MAX_DAYS_DELIVERY|VL_MIN_DAYS_DELIVERY|VL_TOT_DAYS_ESTIMATED_DELIVERY|VL_MED_DAYS_ESTIMATED_DELIVERY|VL_MAX_DAYS_ESTIMATED_DELIVERY|VL_MIN_DAYS_ESTIMATED_DELIVERY|VL_TOT_DELIVERY_DELAY|VL_MED_DELIVERY_DELAY|VL_MAX_DELIVERY_DELAY|VL_MIN_DELIVERY_DELAY|VL_TOT_CONS_OUTROS|VL_MED_CONS_OUTROS|VL_MED_U1M_CONS_OUTROS|VL_MED_U3M_CONS_OUTROS|VL_MED_U6M_CONS_OUTROS|VL_TOT_CONS_TECN|VL_MED_CONS_TECN|VL_MED_U1M_CONS_TECN|VL_MED_U3M_CONS_TECN|VL_MED_U6M_CONS_TECN|VL_TOT_CONS_CASA_CONSTR|VL_MED_CONS_CASA_CONSTR|VL_MED_U1M_CONS_CASA_CONSTR|VL_MED_U3M_CONS_CASA_CONSTR|VL_MED_U6M_CONS_CASA_CONSTR|VL_TOT_CONS_ESP_LZR|VL_MED_CONS_ESP_LZR|VL_MED_U1M_CONS_ESP_LZR|VL_MED_U3M_CONS_ESP_LZR|VL_MED_U6M_CONS_ESP_LZR|VL_TOT_CONS_BLZ_SAUDE|VL_MED_CONS_BLZ_SAUDE|VL_MED_U1M_CONS_BLZ_SAUDE|VL_MED_U3M_CONS_BLZ_SAUDE|VL_MED_U6M_CONS_BLZ_SAUDE|VL_TOT_CONS_MODA|VL_MED_CONS_MODA|VL_MED_U1M_CONS_MODA|VL_MED_U3M_CONS_MODA|VL_MED_U6M_CONS_MODA|VL_TOT_CONS_ELETRODOMESTC|VL_MED_CONS_ELETRODOMESTC|VL_MED_U1M_CONS_ELETRODOMESTC|VL_MED_U3M_CONS_ELETRODOMESTC|VL_MED_U6M_CONS_ELETRODOMESTC|VL_TOT_CONS_PETS_AND_BEBES|VL_MED_CONS_PETS_AND_BEBES|VL_MED_U1M_CONS_PETS_AND_BEBES|VL_MED_U3M_CONS_PETS_AND_BEBES|VL_MED_U6M_CONS_PETS_AND_BEBES|VL_TOT_CONS_PAPEL_AND_CULT|VL_MED_CONS_PAPEL_AND_CULT|VL_MED_U1M_CONS_PAPEL_AND_CULT|VL_MED_U3M_CONS_PAPEL_AND_CULT|VL_MED_U6M_CONS_PAPEL_AND_CULT|VL_TOT_CONS_ALIM_AND_BEBIDAS|VL_MED_CONS_ALIM_AND_BEBIDAS|VL_MED_U1M_CONS_ALIM_AND_BEBIDAS|VL_MED_U3M_CONS_ALIM_AND_BEBIDAS|VL_MED_U6M_CONS_ALIM_AND_BEBIDAS|\n",
      "+--------------------+---------+------------+------------+------------+------------+-----------------+-----------------+-----------------+-----------------+--------------+--------------+--------------+--------------+-----------------+-----------------+-----------------+-----------------+--------------+--------------+--------------+--------------+---------------------+---------------------+---------------------+---------------------+--------------------+--------------------+--------------------+--------------------+------------------------------+------------------------------+------------------------------+------------------------------+---------------------+---------------------+---------------------+---------------------+------------------+------------------+----------------------+----------------------+----------------------+----------------+----------------+--------------------+--------------------+--------------------+-----------------------+-----------------------+---------------------------+---------------------------+---------------------------+-------------------+-------------------+-----------------------+-----------------------+-----------------------+---------------------+---------------------+-------------------------+-------------------------+-------------------------+----------------+----------------+--------------------+--------------------+--------------------+-------------------------+-------------------------+-----------------------------+-----------------------------+-----------------------------+--------------------------+--------------------------+------------------------------+------------------------------+------------------------------+--------------------------+--------------------------+------------------------------+------------------------------+------------------------------+----------------------------+----------------------------+--------------------------------+--------------------------------+--------------------------------+\n",
      "|00720abe85ba08598...|   201808|     1136.86|       47.37|      141.67|        20.6|               54|             2.25|                3|                1|          1.25|          0.05|          0.12|          0.03|          1486.76|            61.95|            220.0|             37.0|        225375|       9390.63|         13875|          9000|                13.57|                 0.57|                 1.13|                 0.07|                 186|                7.75|                  38|                   2|                           499|                         20.79|                            38|                             5|                 -307|               -12.79|                   14|                  -29|               0.0|              NULL|                  NULL|                  NULL|                  NULL|             0.0|            NULL|                NULL|                NULL|                NULL|                    0.0|                   NULL|                       NULL|                       NULL|                       NULL|                0.0|               NULL|                   NULL|                   NULL|                   NULL|                  0.0|                 NULL|                     NULL|                     NULL|                     NULL|             0.0|            NULL|                NULL|                NULL|                NULL|                  1136.86|                    47.37|                        118.2|                        54.44|                        47.37|                       0.0|                      NULL|                          NULL|                          NULL|                          NULL|                       0.0|                      NULL|                          NULL|                          NULL|                          NULL|                         0.0|                        NULL|                            NULL|                            NULL|                            NULL|\n",
      "|00ee68308b45bc5e2...|   201808|    10136.89|      166.18|       466.9|       56.88|               68|             1.11|                4|                1|           7.0|          0.11|          1.29|          0.01|          3293.02|            53.98|           117.24|            11.59|       2836908|      46506.69|        137500|          4536|                10.83|                 0.18|                 0.83|                 0.02|                 609|                9.98|                  54|                  -5|                          1235|                         20.25|                            55|                             5|                 -580|                -9.51|                   24|                  -24|           9067.47|            171.08|                123.67|                 89.25|                174.47|             0.0|            NULL|                NULL|                NULL|                NULL|                1069.42|                 133.68|                       NULL|                       NULL|                     138.98|                0.0|               NULL|                   NULL|                   NULL|                   NULL|                  0.0|                 NULL|                     NULL|                     NULL|                     NULL|             0.0|            NULL|                NULL|                NULL|                NULL|                      0.0|                     NULL|                         NULL|                         NULL|                         NULL|                       0.0|                      NULL|                          NULL|                          NULL|                          NULL|                       0.0|                      NULL|                          NULL|                          NULL|                          NULL|                         0.0|                        NULL|                            NULL|                            NULL|                            NULL|\n",
      "|01266d4c46afa5196...|   201808|      137.48|       45.83|       75.47|       23.35|                3|              1.0|                1|                1|          3.23|          1.08|          1.14|          1.02|           222.88|            74.29|           142.42|            21.96|          1166|        388.67|           440|           352|                 2.33|                 0.78|                 1.36|                 0.32|                  16|                5.33|                   7|                   4|                            46|                         15.33|                            17|                            14|                  -28|                -9.33|                   -8|                  -11|               0.0|              NULL|                  NULL|                  NULL|                  NULL|             0.0|            NULL|                NULL|                NULL|                NULL|                 137.48|                  45.83|                      45.83|                      45.83|                      45.83|                0.0|               NULL|                   NULL|                   NULL|                   NULL|                  0.0|                 NULL|                     NULL|                     NULL|                     NULL|             0.0|            NULL|                NULL|                NULL|                NULL|                      0.0|                     NULL|                         NULL|                         NULL|                         NULL|                       0.0|                      NULL|                          NULL|                          NULL|                          NULL|                       0.0|                      NULL|                          NULL|                          NULL|                          NULL|                         0.0|                        NULL|                            NULL|                            NULL|                            NULL|\n",
      "|014d9a685fd572766...|   201808|      731.02|        73.1|      117.46|       51.86|               10|              1.0|                1|                1|          0.82|          0.08|          0.12|          0.04|          2696.21|           269.62|           619.38|            170.5|         32716|        3271.6|          4332|          2016|                 2.41|                 0.24|                 0.47|                 0.02|                  89|                 8.9|                  17|                   4|                           205|                          20.5|                            41|                            12|                 -115|                -11.5|                   -1|                  -30|             71.39|             71.39|                  NULL|                  NULL|                 71.39|             0.0|            NULL|                NULL|                NULL|                NULL|                    0.0|                   NULL|                       NULL|                       NULL|                       NULL|                0.0|               NULL|                   NULL|                   NULL|                   NULL|                  0.0|                 NULL|                     NULL|                     NULL|                     NULL|             0.0|            NULL|                NULL|                NULL|                NULL|                      0.0|                     NULL|                         NULL|                         NULL|                         NULL|                       0.0|                      NULL|                          NULL|                          NULL|                          NULL|                    659.63|                     73.29|                        103.33|                        103.33|                         73.29|                         0.0|                        NULL|                            NULL|                            NULL|                            NULL|\n",
      "|0176f73cc1195f367...|   201808|     4109.88|      141.72|      319.96|       68.64|               33|             1.14|                2|                1|           3.0|           0.1|          0.24|          0.02|          1146.75|            39.54|           107.02|             9.47|       1213686|      41851.24|         79872|         13804|                 7.81|                 0.27|                 0.44|                 0.13|                 386|               13.31|                  44|                   4|                           631|                         21.76|                            36|                            10|                 -232|                 -8.0|                   20|                  -27|           4109.88|            141.72|                153.67|                163.83|                142.86|             0.0|            NULL|                NULL|                NULL|                NULL|                    0.0|                   NULL|                       NULL|                       NULL|                       NULL|                0.0|               NULL|                   NULL|                   NULL|                   NULL|                  0.0|                 NULL|                     NULL|                     NULL|                     NULL|             0.0|            NULL|                NULL|                NULL|                NULL|                      0.0|                     NULL|                         NULL|                         NULL|                         NULL|                       0.0|                      NULL|                          NULL|                          NULL|                          NULL|                       0.0|                      NULL|                          NULL|                          NULL|                          NULL|                         0.0|                        NULL|                            NULL|                            NULL|                            NULL|\n",
      "+--------------------+---------+------------+------------+------------+------------+-----------------+-----------------+-----------------+-----------------+--------------+--------------+--------------+--------------+-----------------+-----------------+-----------------+-----------------+--------------+--------------+--------------+--------------+---------------------+---------------------+---------------------+---------------------+--------------------+--------------------+--------------------+--------------------+------------------------------+------------------------------+------------------------------+------------------------------+---------------------+---------------------+---------------------+---------------------+------------------+------------------+----------------------+----------------------+----------------------+----------------+----------------+--------------------+--------------------+--------------------+-----------------------+-----------------------+---------------------------+---------------------------+---------------------------+-------------------+-------------------+-----------------------+-----------------------+-----------------------+---------------------+---------------------+-------------------------+-------------------------+-------------------------+----------------+----------------+--------------------+--------------------+--------------------+-------------------------+-------------------------+-----------------------------+-----------------------------+-----------------------------+--------------------------+--------------------------+------------------------------+------------------------------+------------------------------+--------------------------+--------------------------+------------------------------+------------------------------+------------------------------+----------------------------+----------------------------+--------------------------------+--------------------------------+--------------------------------+\n",
      "only showing top 5 rows\n",
      "\n"
     ]
    }
   ],
   "source": [
    "df_temp_02.show(5)"
   ]
  },
  {
   "cell_type": "markdown",
   "metadata": {},
   "source": [
    "## Creating second-layer explanatory variables"
   ]
  },
  {
   "cell_type": "code",
   "execution_count": 309,
   "metadata": {},
   "outputs": [
    {
     "data": {
      "text/plain": [
       "1261"
      ]
     },
     "execution_count": 309,
     "metadata": {},
     "output_type": "execute_result"
    }
   ],
   "source": [
    "df_temp_03 = spark.sql(\"\"\"\n",
    "SELECT\n",
    "*,\n",
    "round(VL_MED_U1M_CONS_OUTROS/VL_MED_U3M_CONS_OUTROS,2) as VL_RAZ_MED_U1M_U3M_CONS_OUTROS,\n",
    "round(VL_MED_U3M_CONS_OUTROS/VL_MED_U6M_CONS_OUTROS,2) as VL_RAZ_MED_U3M_U6M_CONS_OUTROS,\n",
    "round(VL_MED_U1M_CONS_TECN/VL_MED_U3M_CONS_TECN,2) as VL_RAZ_MED_U1M_U3M_CONS_TECN,\n",
    "round(VL_MED_U3M_CONS_TECN/VL_MED_U6M_CONS_TECN,2) as VL_RAZ_MED_U3M_U6M_CONS_TECN,  \n",
    "round(VL_MED_U1M_CONS_CASA_CONSTR/VL_MED_U3M_CONS_CASA_CONSTR,2) as VL_RAZ_MED_U1M_U3M_CONS_CASA_CONSTR,\n",
    "round(VL_MED_U3M_CONS_CASA_CONSTR/VL_MED_U6M_CONS_CASA_CONSTR,2) as VL_RAZ_MED_U3M_U6M_CONS_CASA_CONSTR,     \n",
    "round(VL_MED_U1M_CONS_ESP_LZR/VL_MED_U3M_CONS_ESP_LZR,2) as VL_RAZ_MED_U1M_U3M_CONS_ESP_LZR,\n",
    "round(VL_MED_U3M_CONS_ESP_LZR/VL_MED_U6M_CONS_ESP_LZR,2) as VL_RAZ_MED_U3M_U6M_CONS_ESP_LZR, \n",
    "round(VL_MED_U1M_CONS_BLZ_SAUDE/VL_MED_U3M_CONS_BLZ_SAUDE,2) as VL_RAZ_MED_U1M_U3M_CONS_BLZ_SAUDE,\n",
    "round(VL_MED_U3M_CONS_BLZ_SAUDE/VL_MED_U6M_CONS_BLZ_SAUDE,2) as VL_RAZ_MED_U3M_U6M_CONS_BLZ_SAUDE, \n",
    "round(VL_MED_U1M_CONS_MODA/VL_MED_U3M_CONS_MODA,2) as VL_RAZ_MED_U1M_U3M_CONS_MODA,\n",
    "round(VL_MED_U3M_CONS_MODA/VL_MED_U6M_CONS_MODA,2) as VL_RAZ_MED_U3M_U6M_CONS_MODA,     \n",
    "round(VL_MED_U1M_CONS_ELETRODOMESTC/VL_MED_U3M_CONS_ELETRODOMESTC,2) as VL_RAZ_MED_U1M_U3M_CONS_ELETRODOMESTC,\n",
    "round(VL_MED_U3M_CONS_ELETRODOMESTC/VL_MED_U6M_CONS_ELETRODOMESTC,2) as VL_RAZ_MED_U3M_U6M_CONS_ELETRODOMESTC,   \n",
    "round(VL_MED_U1M_CONS_PETS_AND_BEBES/VL_MED_U3M_CONS_PETS_AND_BEBES,2) as VL_RAZ_MED_U1M_U3M_CONS_PETS_AND_BEBES,\n",
    "round(VL_MED_U3M_CONS_PETS_AND_BEBES/VL_MED_U6M_CONS_PETS_AND_BEBES,2) as VL_RAZ_MED_U3M_U6M_CONS_PETS_AND_BEBES, \n",
    "round(VL_MED_U1M_CONS_PAPEL_AND_CULT/VL_MED_U3M_CONS_PAPEL_AND_CULT,2) as VL_RAZ_MED_U1M_U3M_CONS_PAPEL_AND_CULT,\n",
    "round(VL_MED_U3M_CONS_PAPEL_AND_CULT/VL_MED_U6M_CONS_PAPEL_AND_CULT,2) as VL_RAZ_MED_U3M_U6M_CONS_PAPEL_AND_CULT,  \n",
    "round(VL_MED_U1M_CONS_ALIM_AND_BEBIDAS/VL_MED_U3M_CONS_ALIM_AND_BEBIDAS,2) as VL_RAZ_MED_U1M_U3M_CONS_ALIM_AND_BEBIDAS,\n",
    "round(VL_MED_U3M_CONS_ALIM_AND_BEBIDAS/VL_MED_U6M_CONS_ALIM_AND_BEBIDAS,2) as VL_RAZ_MED_U3M_U6M_CONS_ALIM_AND_BEBIDAS                                                                                                                                                                                                           \n",
    "FROM df_temp_02\n",
    "\n",
    "\"\"\")\n",
    "\n",
    "df_temp_03.createOrReplaceTempView(\"df_temp_03\")\n",
    "df_temp_03.count()"
   ]
  },
  {
   "cell_type": "code",
   "execution_count": 310,
   "metadata": {},
   "outputs": [
    {
     "name": "stdout",
     "output_type": "stream",
     "text": [
      "+--------------------+---------+------------+------------+------------+------------+-----------------+-----------------+-----------------+-----------------+--------------+--------------+--------------+--------------+-----------------+-----------------+-----------------+-----------------+--------------+--------------+--------------+--------------+---------------------+---------------------+---------------------+---------------------+--------------------+--------------------+--------------------+--------------------+------------------------------+------------------------------+------------------------------+------------------------------+---------------------+---------------------+---------------------+---------------------+------------------+------------------+----------------------+----------------------+----------------------+----------------+----------------+--------------------+--------------------+--------------------+-----------------------+-----------------------+---------------------------+---------------------------+---------------------------+-------------------+-------------------+-----------------------+-----------------------+-----------------------+---------------------+---------------------+-------------------------+-------------------------+-------------------------+----------------+----------------+--------------------+--------------------+--------------------+-------------------------+-------------------------+-----------------------------+-----------------------------+-----------------------------+--------------------------+--------------------------+------------------------------+------------------------------+------------------------------+--------------------------+--------------------------+------------------------------+------------------------------+------------------------------+----------------------------+----------------------------+--------------------------------+--------------------------------+--------------------------------+------------------------------+------------------------------+----------------------------+----------------------------+-----------------------------------+-----------------------------------+-------------------------------+-------------------------------+---------------------------------+---------------------------------+----------------------------+----------------------------+-------------------------------------+-------------------------------------+--------------------------------------+--------------------------------------+--------------------------------------+--------------------------------------+----------------------------------------+----------------------------------------+\n",
      "|           seller_id|PK_DATREF|VL_TOT_PRICE|VL_MED_PRICE|VL_MAX_PRICE|VL_MIN_PRICE|VL_TOT_QTD_PHOTOS|VL_MED_QTD_PHOTOS|VL_MAX_QTD_PHOTOS|VL_MIN_QTD_PHOTOS|VL_TOT_DENSITY|VL_MED_DENSITY|VL_MAX_DENSITY|VL_MIN_DENSITY|VL_TOT_PRC_PER_KG|VL_MED_PRC_PER_KG|VL_MAX_PRC_PER_KG|VL_MIN_PRC_PER_KG|VL_TOT_VOL_CM3|VL_MED_VOL_CM3|VL_MAX_VOL_CM3|VL_MIN_VOL_CM3|VL_TOT_COST_REL_FRETE|VL_MED_COST_REL_FRETE|VL_MAX_COST_REL_FRETE|VL_MIN_COST_REL_FRETE|VL_TOT_DAYS_DELIVERY|VL_MED_DAYS_DELIVERY|VL_MAX_DAYS_DELIVERY|VL_MIN_DAYS_DELIVERY|VL_TOT_DAYS_ESTIMATED_DELIVERY|VL_MED_DAYS_ESTIMATED_DELIVERY|VL_MAX_DAYS_ESTIMATED_DELIVERY|VL_MIN_DAYS_ESTIMATED_DELIVERY|VL_TOT_DELIVERY_DELAY|VL_MED_DELIVERY_DELAY|VL_MAX_DELIVERY_DELAY|VL_MIN_DELIVERY_DELAY|VL_TOT_CONS_OUTROS|VL_MED_CONS_OUTROS|VL_MED_U1M_CONS_OUTROS|VL_MED_U3M_CONS_OUTROS|VL_MED_U6M_CONS_OUTROS|VL_TOT_CONS_TECN|VL_MED_CONS_TECN|VL_MED_U1M_CONS_TECN|VL_MED_U3M_CONS_TECN|VL_MED_U6M_CONS_TECN|VL_TOT_CONS_CASA_CONSTR|VL_MED_CONS_CASA_CONSTR|VL_MED_U1M_CONS_CASA_CONSTR|VL_MED_U3M_CONS_CASA_CONSTR|VL_MED_U6M_CONS_CASA_CONSTR|VL_TOT_CONS_ESP_LZR|VL_MED_CONS_ESP_LZR|VL_MED_U1M_CONS_ESP_LZR|VL_MED_U3M_CONS_ESP_LZR|VL_MED_U6M_CONS_ESP_LZR|VL_TOT_CONS_BLZ_SAUDE|VL_MED_CONS_BLZ_SAUDE|VL_MED_U1M_CONS_BLZ_SAUDE|VL_MED_U3M_CONS_BLZ_SAUDE|VL_MED_U6M_CONS_BLZ_SAUDE|VL_TOT_CONS_MODA|VL_MED_CONS_MODA|VL_MED_U1M_CONS_MODA|VL_MED_U3M_CONS_MODA|VL_MED_U6M_CONS_MODA|VL_TOT_CONS_ELETRODOMESTC|VL_MED_CONS_ELETRODOMESTC|VL_MED_U1M_CONS_ELETRODOMESTC|VL_MED_U3M_CONS_ELETRODOMESTC|VL_MED_U6M_CONS_ELETRODOMESTC|VL_TOT_CONS_PETS_AND_BEBES|VL_MED_CONS_PETS_AND_BEBES|VL_MED_U1M_CONS_PETS_AND_BEBES|VL_MED_U3M_CONS_PETS_AND_BEBES|VL_MED_U6M_CONS_PETS_AND_BEBES|VL_TOT_CONS_PAPEL_AND_CULT|VL_MED_CONS_PAPEL_AND_CULT|VL_MED_U1M_CONS_PAPEL_AND_CULT|VL_MED_U3M_CONS_PAPEL_AND_CULT|VL_MED_U6M_CONS_PAPEL_AND_CULT|VL_TOT_CONS_ALIM_AND_BEBIDAS|VL_MED_CONS_ALIM_AND_BEBIDAS|VL_MED_U1M_CONS_ALIM_AND_BEBIDAS|VL_MED_U3M_CONS_ALIM_AND_BEBIDAS|VL_MED_U6M_CONS_ALIM_AND_BEBIDAS|VL_RAZ_MED_U1M_U3M_CONS_OUTROS|VL_RAZ_MED_U3M_U6M_CONS_OUTROS|VL_RAZ_MED_U1M_U3M_CONS_TECN|VL_RAZ_MED_U3M_U6M_CONS_TECN|VL_RAZ_MED_U1M_U3M_CONS_CASA_CONSTR|VL_RAZ_MED_U3M_U6M_CONS_CASA_CONSTR|VL_RAZ_MED_U1M_U3M_CONS_ESP_LZR|VL_RAZ_MED_U3M_U6M_CONS_ESP_LZR|VL_RAZ_MED_U1M_U3M_CONS_BLZ_SAUDE|VL_RAZ_MED_U3M_U6M_CONS_BLZ_SAUDE|VL_RAZ_MED_U1M_U3M_CONS_MODA|VL_RAZ_MED_U3M_U6M_CONS_MODA|VL_RAZ_MED_U1M_U3M_CONS_ELETRODOMESTC|VL_RAZ_MED_U3M_U6M_CONS_ELETRODOMESTC|VL_RAZ_MED_U1M_U3M_CONS_PETS_AND_BEBES|VL_RAZ_MED_U3M_U6M_CONS_PETS_AND_BEBES|VL_RAZ_MED_U1M_U3M_CONS_PAPEL_AND_CULT|VL_RAZ_MED_U3M_U6M_CONS_PAPEL_AND_CULT|VL_RAZ_MED_U1M_U3M_CONS_ALIM_AND_BEBIDAS|VL_RAZ_MED_U3M_U6M_CONS_ALIM_AND_BEBIDAS|\n",
      "+--------------------+---------+------------+------------+------------+------------+-----------------+-----------------+-----------------+-----------------+--------------+--------------+--------------+--------------+-----------------+-----------------+-----------------+-----------------+--------------+--------------+--------------+--------------+---------------------+---------------------+---------------------+---------------------+--------------------+--------------------+--------------------+--------------------+------------------------------+------------------------------+------------------------------+------------------------------+---------------------+---------------------+---------------------+---------------------+------------------+------------------+----------------------+----------------------+----------------------+----------------+----------------+--------------------+--------------------+--------------------+-----------------------+-----------------------+---------------------------+---------------------------+---------------------------+-------------------+-------------------+-----------------------+-----------------------+-----------------------+---------------------+---------------------+-------------------------+-------------------------+-------------------------+----------------+----------------+--------------------+--------------------+--------------------+-------------------------+-------------------------+-----------------------------+-----------------------------+-----------------------------+--------------------------+--------------------------+------------------------------+------------------------------+------------------------------+--------------------------+--------------------------+------------------------------+------------------------------+------------------------------+----------------------------+----------------------------+--------------------------------+--------------------------------+--------------------------------+------------------------------+------------------------------+----------------------------+----------------------------+-----------------------------------+-----------------------------------+-------------------------------+-------------------------------+---------------------------------+---------------------------------+----------------------------+----------------------------+-------------------------------------+-------------------------------------+--------------------------------------+--------------------------------------+--------------------------------------+--------------------------------------+----------------------------------------+----------------------------------------+\n",
      "|00720abe85ba08598...|   201808|     1136.86|       47.37|      141.67|        20.6|               54|             2.25|                3|                1|          1.25|          0.05|          0.12|          0.03|          1486.76|            61.95|            220.0|             37.0|        225375|       9390.63|         13875|          9000|                13.57|                 0.57|                 1.13|                 0.07|                 186|                7.75|                  38|                   2|                           499|                         20.79|                            38|                             5|                 -307|               -12.79|                   14|                  -29|               0.0|              NULL|                  NULL|                  NULL|                  NULL|             0.0|            NULL|                NULL|                NULL|                NULL|                    0.0|                   NULL|                       NULL|                       NULL|                       NULL|                0.0|               NULL|                   NULL|                   NULL|                   NULL|                  0.0|                 NULL|                     NULL|                     NULL|                     NULL|             0.0|            NULL|                NULL|                NULL|                NULL|                  1136.86|                    47.37|                        118.2|                        54.44|                        47.37|                       0.0|                      NULL|                          NULL|                          NULL|                          NULL|                       0.0|                      NULL|                          NULL|                          NULL|                          NULL|                         0.0|                        NULL|                            NULL|                            NULL|                            NULL|                          NULL|                          NULL|                        NULL|                        NULL|                               NULL|                               NULL|                           NULL|                           NULL|                             NULL|                             NULL|                        NULL|                        NULL|                                 2.17|                                 1.15|                                  NULL|                                  NULL|                                  NULL|                                  NULL|                                    NULL|                                    NULL|\n",
      "|00ee68308b45bc5e2...|   201808|    10136.89|      166.18|       466.9|       56.88|               68|             1.11|                4|                1|           7.0|          0.11|          1.29|          0.01|          3293.02|            53.98|           117.24|            11.59|       2836908|      46506.69|        137500|          4536|                10.83|                 0.18|                 0.83|                 0.02|                 609|                9.98|                  54|                  -5|                          1235|                         20.25|                            55|                             5|                 -580|                -9.51|                   24|                  -24|           9067.47|            171.08|                123.67|                 89.25|                174.47|             0.0|            NULL|                NULL|                NULL|                NULL|                1069.42|                 133.68|                       NULL|                       NULL|                     138.98|                0.0|               NULL|                   NULL|                   NULL|                   NULL|                  0.0|                 NULL|                     NULL|                     NULL|                     NULL|             0.0|            NULL|                NULL|                NULL|                NULL|                      0.0|                     NULL|                         NULL|                         NULL|                         NULL|                       0.0|                      NULL|                          NULL|                          NULL|                          NULL|                       0.0|                      NULL|                          NULL|                          NULL|                          NULL|                         0.0|                        NULL|                            NULL|                            NULL|                            NULL|                          1.39|                          0.51|                        NULL|                        NULL|                               NULL|                               NULL|                           NULL|                           NULL|                             NULL|                             NULL|                        NULL|                        NULL|                                 NULL|                                 NULL|                                  NULL|                                  NULL|                                  NULL|                                  NULL|                                    NULL|                                    NULL|\n",
      "|01266d4c46afa5196...|   201808|      137.48|       45.83|       75.47|       23.35|                3|              1.0|                1|                1|          3.23|          1.08|          1.14|          1.02|           222.88|            74.29|           142.42|            21.96|          1166|        388.67|           440|           352|                 2.33|                 0.78|                 1.36|                 0.32|                  16|                5.33|                   7|                   4|                            46|                         15.33|                            17|                            14|                  -28|                -9.33|                   -8|                  -11|               0.0|              NULL|                  NULL|                  NULL|                  NULL|             0.0|            NULL|                NULL|                NULL|                NULL|                 137.48|                  45.83|                      45.83|                      45.83|                      45.83|                0.0|               NULL|                   NULL|                   NULL|                   NULL|                  0.0|                 NULL|                     NULL|                     NULL|                     NULL|             0.0|            NULL|                NULL|                NULL|                NULL|                      0.0|                     NULL|                         NULL|                         NULL|                         NULL|                       0.0|                      NULL|                          NULL|                          NULL|                          NULL|                       0.0|                      NULL|                          NULL|                          NULL|                          NULL|                         0.0|                        NULL|                            NULL|                            NULL|                            NULL|                          NULL|                          NULL|                        NULL|                        NULL|                                1.0|                                1.0|                           NULL|                           NULL|                             NULL|                             NULL|                        NULL|                        NULL|                                 NULL|                                 NULL|                                  NULL|                                  NULL|                                  NULL|                                  NULL|                                    NULL|                                    NULL|\n",
      "|014d9a685fd572766...|   201808|      731.02|        73.1|      117.46|       51.86|               10|              1.0|                1|                1|          0.82|          0.08|          0.12|          0.04|          2696.21|           269.62|           619.38|            170.5|         32716|        3271.6|          4332|          2016|                 2.41|                 0.24|                 0.47|                 0.02|                  89|                 8.9|                  17|                   4|                           205|                          20.5|                            41|                            12|                 -115|                -11.5|                   -1|                  -30|             71.39|             71.39|                  NULL|                  NULL|                 71.39|             0.0|            NULL|                NULL|                NULL|                NULL|                    0.0|                   NULL|                       NULL|                       NULL|                       NULL|                0.0|               NULL|                   NULL|                   NULL|                   NULL|                  0.0|                 NULL|                     NULL|                     NULL|                     NULL|             0.0|            NULL|                NULL|                NULL|                NULL|                      0.0|                     NULL|                         NULL|                         NULL|                         NULL|                       0.0|                      NULL|                          NULL|                          NULL|                          NULL|                    659.63|                     73.29|                        103.33|                        103.33|                         73.29|                         0.0|                        NULL|                            NULL|                            NULL|                            NULL|                          NULL|                          NULL|                        NULL|                        NULL|                               NULL|                               NULL|                           NULL|                           NULL|                             NULL|                             NULL|                        NULL|                        NULL|                                 NULL|                                 NULL|                                  NULL|                                  NULL|                                   1.0|                                  1.41|                                    NULL|                                    NULL|\n",
      "|0176f73cc1195f367...|   201808|     4109.88|      141.72|      319.96|       68.64|               33|             1.14|                2|                1|           3.0|           0.1|          0.24|          0.02|          1146.75|            39.54|           107.02|             9.47|       1213686|      41851.24|         79872|         13804|                 7.81|                 0.27|                 0.44|                 0.13|                 386|               13.31|                  44|                   4|                           631|                         21.76|                            36|                            10|                 -232|                 -8.0|                   20|                  -27|           4109.88|            141.72|                153.67|                163.83|                142.86|             0.0|            NULL|                NULL|                NULL|                NULL|                    0.0|                   NULL|                       NULL|                       NULL|                       NULL|                0.0|               NULL|                   NULL|                   NULL|                   NULL|                  0.0|                 NULL|                     NULL|                     NULL|                     NULL|             0.0|            NULL|                NULL|                NULL|                NULL|                      0.0|                     NULL|                         NULL|                         NULL|                         NULL|                       0.0|                      NULL|                          NULL|                          NULL|                          NULL|                       0.0|                      NULL|                          NULL|                          NULL|                          NULL|                         0.0|                        NULL|                            NULL|                            NULL|                            NULL|                          0.94|                          1.15|                        NULL|                        NULL|                               NULL|                               NULL|                           NULL|                           NULL|                             NULL|                             NULL|                        NULL|                        NULL|                                 NULL|                                 NULL|                                  NULL|                                  NULL|                                  NULL|                                  NULL|                                    NULL|                                    NULL|\n",
      "+--------------------+---------+------------+------------+------------+------------+-----------------+-----------------+-----------------+-----------------+--------------+--------------+--------------+--------------+-----------------+-----------------+-----------------+-----------------+--------------+--------------+--------------+--------------+---------------------+---------------------+---------------------+---------------------+--------------------+--------------------+--------------------+--------------------+------------------------------+------------------------------+------------------------------+------------------------------+---------------------+---------------------+---------------------+---------------------+------------------+------------------+----------------------+----------------------+----------------------+----------------+----------------+--------------------+--------------------+--------------------+-----------------------+-----------------------+---------------------------+---------------------------+---------------------------+-------------------+-------------------+-----------------------+-----------------------+-----------------------+---------------------+---------------------+-------------------------+-------------------------+-------------------------+----------------+----------------+--------------------+--------------------+--------------------+-------------------------+-------------------------+-----------------------------+-----------------------------+-----------------------------+--------------------------+--------------------------+------------------------------+------------------------------+------------------------------+--------------------------+--------------------------+------------------------------+------------------------------+------------------------------+----------------------------+----------------------------+--------------------------------+--------------------------------+--------------------------------+------------------------------+------------------------------+----------------------------+----------------------------+-----------------------------------+-----------------------------------+-------------------------------+-------------------------------+---------------------------------+---------------------------------+----------------------------+----------------------------+-------------------------------------+-------------------------------------+--------------------------------------+--------------------------------------+--------------------------------------+--------------------------------------+----------------------------------------+----------------------------------------+\n",
      "only showing top 5 rows\n",
      "\n"
     ]
    }
   ],
   "source": [
    "df_temp_03.show(5)"
   ]
  },
  {
   "cell_type": "markdown",
   "metadata": {},
   "source": [
    "## Save Book Seller"
   ]
  },
  {
   "cell_type": "code",
   "execution_count": 311,
   "metadata": {},
   "outputs": [],
   "source": [
    "import sqlite3\n",
    "\n",
    "# Conectar ao banco SQLite (cria o arquivo se não existir)\n",
    "conn = sqlite3.connect('../data/processed/tb_book_seller.db')\n",
    "cursor = conn.cursor()\n",
    "\n",
    "# Gerar a estrutura da tabela a partir do schema do DataFrame\n",
    "columns = ', '.join([f\"{col.name} {col.dataType.simpleString().upper()}\" for col in df_temp_03.schema])\n",
    "create_table_sql = f\"CREATE TABLE IF NOT EXISTS tb_book_seller ({columns})\"\n",
    "\n",
    "# Criar a tabela\n",
    "cursor.execute(create_table_sql)\n",
    "\n",
    "# Inserir os dados\n",
    "# Convertendo o DataFrame PySpark para Pandas DataFrame\n",
    "pandas_df_temp_03 = df_temp_03.toPandas()\n",
    "\n",
    "# Inserir os dados na tabela SQLite\n",
    "for index, row in pandas_df_temp_03.iterrows():\n",
    "    cursor.execute(f\"INSERT INTO tb_book_seller ({', '.join(pandas_df_temp_03.columns)}) VALUES ({', '.join(['?'] * len(row))})\", tuple(row))\n",
    "\n",
    "# Commit e fechar a conexão\n",
    "conn.commit()\n",
    "conn.close()"
   ]
  }
 ],
 "metadata": {
  "kernelspec": {
   "display_name": ".venv",
   "language": "python",
   "name": "python3"
  },
  "language_info": {
   "codemirror_mode": {
    "name": "ipython",
    "version": 3
   },
   "file_extension": ".py",
   "mimetype": "text/x-python",
   "name": "python",
   "nbconvert_exporter": "python",
   "pygments_lexer": "ipython3",
   "version": "3.12.3"
  }
 },
 "nbformat": 4,
 "nbformat_minor": 2
}
